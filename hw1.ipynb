{
 "cells": [
  {
   "cell_type": "code",
   "execution_count": 1,
   "source": [
    "import numpy as np\r\n",
    "from itertools import product\r\n",
    "from blackjack_env import BlackjackEnv"
   ],
   "outputs": [],
   "metadata": {}
  },
  {
   "cell_type": "code",
   "execution_count": 2,
   "source": [
    "env = BlackjackEnv(natural=True)"
   ],
   "outputs": [],
   "metadata": {}
  },
  {
   "cell_type": "code",
   "execution_count": 3,
   "source": [
    "env.seed(1)"
   ],
   "outputs": [
    {
     "output_type": "execute_result",
     "data": {
      "text/plain": [
       "[1]"
      ]
     },
     "metadata": {},
     "execution_count": 3
    }
   ],
   "metadata": {}
  },
  {
   "cell_type": "code",
   "execution_count": 4,
   "source": [
    "env.observation_space"
   ],
   "outputs": [
    {
     "output_type": "execute_result",
     "data": {
      "text/plain": [
       "Tuple(Discrete(32), Discrete(11), Discrete(2))"
      ]
     },
     "metadata": {},
     "execution_count": 4
    }
   ],
   "metadata": {}
  },
  {
   "cell_type": "code",
   "execution_count": 5,
   "source": [
    "(player_sum, dealer_sum, usable_ace), reward, done, _ = env.step(1)"
   ],
   "outputs": [],
   "metadata": {}
  },
  {
   "cell_type": "code",
   "execution_count": 6,
   "source": [
    "pi = np.ones((32, 11, 2), dtype=np.int8)\r\n",
    "pi[19:, :, :] = 0"
   ],
   "outputs": [],
   "metadata": {}
  },
  {
   "cell_type": "code",
   "execution_count": 13,
   "source": [
    "def run_episode(env, pi):\r\n",
    "    observation = env.reset()\r\n",
    "    observation = tuple(map(int, observation))\r\n",
    "    states, rewards = [observation], [0]\r\n",
    "    done = False\r\n",
    "    while not done:\r\n",
    "        observation, reward, done, _ = env.step(pi[observation])\r\n",
    "        observation = tuple(map(int, observation))\r\n",
    "        if pi[observation] == 1:\r\n",
    "            states.append(observation)\r\n",
    "            rewards.append(reward)\r\n",
    "        else:\r\n",
    "            rewards[-1] = reward\r\n",
    "    return states, rewards\r\n",
    "\r\n",
    "def update_returns(R, states, rewards, R_all=None):\r\n",
    "    state_first_visit = np.full((32, 11, 2), -1, dtype=np.int16)\r\n",
    "    for t, state in enumerate(states):\r\n",
    "        if state_first_visit[state] == -1:\r\n",
    "            state_first_visit[state] = t\r\n",
    "    g = 0\r\n",
    "    for t in range(len(states) - 1, -1, -1):\r\n",
    "        g += rewards[t]\r\n",
    "        i, j, k = states[t]\r\n",
    "        if state_first_visit[states[t]] == t:\r\n",
    "            R[i][j][k].append(g)\r\n",
    "            if R_all is not None:\r\n",
    "                R_all[i][j][k].append(g)\r\n",
    "    for state in product(range(32), range(11), range(2)):\r\n",
    "        if state_first_visit[state] == -1:\r\n",
    "            R_all[i][j][k].append(np.nan)\r\n",
    "    return R, R_all"
   ],
   "outputs": [],
   "metadata": {}
  },
  {
   "cell_type": "code",
   "execution_count": 14,
   "source": [
    "R = [ [[[] for _ in range(2)] for _ in range(11)] for _ in range(32) ]\r\n",
    "R_all = [ [[[] for _ in range(2)] for _ in range(11)] for _ in range(32) ]"
   ],
   "outputs": [],
   "metadata": {}
  },
  {
   "cell_type": "code",
   "execution_count": 15,
   "source": [
    "total_episodes = 100000\r\n",
    "\r\n",
    "for _ in range(total_episodes):\r\n",
    "    states, rewards = run_episode(env, pi)\r\n",
    "    R, R_all = update_returns(R, states, rewards, R_all=R_all)\r\n"
   ],
   "outputs": [],
   "metadata": {}
  },
  {
   "cell_type": "code",
   "execution_count": null,
   "source": [],
   "outputs": [],
   "metadata": {}
  }
 ],
 "metadata": {
  "orig_nbformat": 4,
  "language_info": {
   "name": "python",
   "version": "3.8.0",
   "mimetype": "text/x-python",
   "codemirror_mode": {
    "name": "ipython",
    "version": 3
   },
   "pygments_lexer": "ipython3",
   "nbconvert_exporter": "python",
   "file_extension": ".py"
  },
  "kernelspec": {
   "name": "python3",
   "display_name": "Python 3.8.0 64-bit ('made_rl': conda)"
  },
  "interpreter": {
   "hash": "fd836b7a61fa6d90266d932a130e1a0fc2ebf246ca4edd51d4a4b5fa0ca1a6cd"
  }
 },
 "nbformat": 4,
 "nbformat_minor": 2
}